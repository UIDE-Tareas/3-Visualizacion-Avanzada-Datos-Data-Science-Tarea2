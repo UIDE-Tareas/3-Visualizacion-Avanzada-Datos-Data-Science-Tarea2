{
 "cells": [
  {
   "cell_type": "markdown",
   "metadata": {},
   "source": [
    "<div style=\"display: table; width: 100%;\">\n",
    "  <div style=\"display: table-cell; text-align: center; vertical-align: middle; width: 70%;\">\n",
    "    <h1>Visualización Avanzada de Datos en Data Science</h1>\n",
    "  </div>\n",
    "  <div style=\"display: table-cell; text-align: center; vertical-align: middle; width: 30%;\">\n",
    "    <img src=\"https://raw.githubusercontent.com/UIDE-Tareas/3-Visualizacion-Avanzada-Datos-Data-Science-Tarea2/refs/heads/main/Assets/UideLogo.png\" alt=\"Texto alternativo\" style=\"width:50%;\">\n",
    "  </div>\n",
    "</div>\n",
    "<hr />\n",
    "\n",
    "### 🟦 Componente Práctico 2   \n",
    "🟡 Grupo: 4      \n",
    "🟡 Semana: 2      \n",
    "🟡 Docente: Edwin Jahir Rueda Rojas(edruedaro@uide.edu.ec)     \n",
    "\n",
    "### 🟦 Realizado por:   \n",
    "Estudiantes\n",
    "\n",
    "💻 Diego Fernando Chimbo Yepez   \n",
    "\n",
    "💻 Hugo Javier Erazo Granda\n",
    "\n",
    "💻 José Manuel Espinoza Bone\n",
    "\n",
    "### 🟦 Código fuente\n",
    "[https://github.com/UIDE-Tareas/3-Visualizacion-Avanzada-Datos-Data-Science-Tarea2](https://github.com/UIDE-Tareas/3-Visualizacion-Avanzada-Datos-Data-Science-Tarea2)"
   ]
  },
  {
   "cell_type": "markdown",
   "metadata": {},
   "source": [
    "# FASE 0️⃣ PREPARAR EL AMBIENTE\n",
    "\n",
    "Aquí instalamos las dependencias externas que no se encuentran en la biblioteca estándar de Python para lograr que el presente notebook se puede ejecutar sin problemas, aparte se definen algunas funciones para usar a lo largo del notebook."
   ]
  },
  {
   "cell_type": "code",
   "execution_count": 1,
   "metadata": {
    "executionInfo": {
     "elapsed": 5181,
     "status": "ok",
     "timestamp": 1736609325029,
     "user": {
      "displayName": "Edwin Rueda",
      "userId": "09723095468412601383"
     },
     "user_tz": 300
    },
    "id": "i3WIAQNcFb5p"
   },
   "outputs": [
    {
     "name": "stdout",
     "output_type": "stream",
     "text": [
      "ℹ️  Environment Info:\n",
      "Python Version: 3.13.5 (tags/v3.13.5:6cb20a2, Jun 11 2025, 16:15:46) [MSC v.1943 64 bit (AMD64)]\n",
      "Platform: win32\n",
      "Executable Path: c:\\Users\\Megam\\AppData\\Local\\Programs\\Python\\Python313\\python.exe\n",
      "Current Working Directory: c:\\Users\\Megam\\OneDrive\\Escritorio\\3-Visualizacion-Avanzada-Datos-Data-Science-Tarea2\n",
      "VIRTUAL_ENV: None\n",
      "sys.prefix: c:\\Users\\Megam\\AppData\\Local\\Programs\\Python\\Python313\n",
      "sys.base_prefix: c:\\Users\\Megam\\AppData\\Local\\Programs\\Python\\Python313\n",
      "ℹ️ Installing deps.\n",
      "⏳ c:\\Users\\Megam\\AppData\\Local\\Programs\\Python\\Python313\\python.exe -m pip install --upgrade pip\n",
      "⏳ c:\\Users\\Megam\\AppData\\Local\\Programs\\Python\\Python313\\python.exe -m pip install requests numpy pandas seaborn matplotlib\n",
      "Deps installed.\n"
     ]
    }
   ],
   "source": [
    "import sys\n",
    "import subprocess\n",
    "import argparse\n",
    "import os\n",
    "from pathlib import Path\n",
    "\n",
    "LIBS = [\n",
    "    \"requests\",\n",
    "    \"numpy\",\n",
    "    \"pandas\",\n",
    "    \"seaborn\",\n",
    "    \"matplotlib\",\n",
    "    \n",
    "]\n",
    "\n",
    "def RunCommand(commandList: list[str], printCommand: bool = True, printError:bool=True) -> subprocess.CompletedProcess:\n",
    "    print(\"⏳\", \" \".join(commandList))\n",
    "    stdOutput = None if printCommand else subprocess.DEVNULL\n",
    "    errorOutput = None if printError else subprocess.PIPE\n",
    "    result = subprocess.run(commandList,stdout=stdOutput, stderr=errorOutput, text=True)\n",
    "    if result.returncode != 0 and printError:\n",
    "        print(result.stderr) \n",
    "    return result\n",
    "\n",
    "def ShowEnvironmentInfo():\n",
    "    print(\"ℹ️  Environment Info:\")\n",
    "    print(\"Python Version:\", sys.version)\n",
    "    print(\"Platform:\", sys.platform)\n",
    "    print(\"Executable Path:\", sys.executable)\n",
    "    print(\"Current Working Directory:\", os.getcwd())\n",
    "    print(\"VIRTUAL_ENV:\", os.environ.get(\"VIRTUAL_ENV\"))\n",
    "    print(\"sys.prefix:\", sys.prefix)\n",
    "    print(\"sys.base_prefix:\", sys.base_prefix)\n",
    "\n",
    "def InstallDeps():\n",
    "    print(\"ℹ️ Installing deps.\")\n",
    "    RunCommand([sys.executable, \"-m\", \"pip\", \"install\", \"--upgrade\", \"pip\"], printCommand=True) \n",
    "    RunCommand([sys.executable, \"-m\", \"pip\", \"install\", *LIBS], printCommand=True) \n",
    "    print(\"Deps installed.\")\n",
    "\n",
    "ShowEnvironmentInfo()\n",
    "InstallDeps()\n",
    "\n",
    "import numpy as np\n",
    "import pandas as pd\n",
    "import pandas\n",
    "import seaborn as sns\n",
    "import matplotlib.pyplot as plt\n",
    "import requests\n",
    "import zipfile\n",
    "\n",
    "pandas.set_option(\"display.max_rows\", None)     # Muestra todas las filas\n",
    "pandas.set_option(\"display.max_columns\", None)\n",
    "\n",
    "# Función para mostrar mensajes de información.\n",
    "def ShowInfoMessage(message: str):\n",
    "    display()\n",
    "    display(f\"ℹ️ {message}\".upper())\n",
    "\n",
    "# Función para mostrar la información del DataFrame.\n",
    "def ShowTableInfo(df:pandas.DataFrame, title):\n",
    "    display(f\"ℹ️ {title} ℹ️\".upper())\n",
    "    df.info()\n",
    "    display()\n",
    "\n",
    "# Función para mostrar las n primeras filas del DataFrame.\n",
    "def ShowTableHead(df:pandas.DataFrame, title:str, headQty=10):\n",
    "    display(f\"ℹ️ {title.upper()}: Primeros {headQty} elementos.\")\n",
    "    display(df.head(headQty))\n",
    "    display()\n",
    "\n",
    "# Función para mostrar las n últimas filas del DataFrame.\n",
    "def ShowTableTail(df:pandas.DataFrame,title:str ,tailQty=10):\n",
    "    display(f\"ℹ️ {title.upper()}: Últimos {tailQty} elementos.\")\n",
    "    display(df.tail(tailQty))\n",
    "    display()\n",
    "\n",
    "# Mostrar el tamaño del DataFrame\n",
    "def ShowTableShape(df:pandas.DataFrame, title:str):\n",
    "    display(f\"ℹ️ {title.upper()} - Tamaño de los datos\")\n",
    "    display(df.shape)\n",
    "    display()\n",
    "\n",
    "# Función para mostrar la estadística descriptiva de todas las columnas del DataFrame, por tipo de dato.\n",
    "def ShowTableStats(df: pandas.DataFrame, title:str = \"\"):\n",
    "    display(f\"ℹ️ Estadística descriptiva - {title}\".upper())\n",
    "    numeric_types = ['int64', 'float64', 'Int64', 'Float64']\n",
    "    numeric_cols = df.select_dtypes(include=numeric_types)\n",
    "    if not numeric_cols.empty:\n",
    "        display(\"    🔢 Columnas numéricas\")\n",
    "        numeric_desc = numeric_cols.describe().round(2).T  # Transpuesta para añadir columna\n",
    "        numeric_desc[\"var\"] = numeric_cols.var().round(2)  # Añadir varianza\n",
    "        display(numeric_desc.T) \n",
    "    non_numeric_types = ['object', 'string', 'bool', 'category']\n",
    "    non_numeric_cols = df.select_dtypes(include=non_numeric_types)\n",
    "    if not non_numeric_cols.empty:\n",
    "        display(\"    🔡 Columnas no numéricas\")\n",
    "        non_numeric_desc = non_numeric_cols.describe()\n",
    "        display(non_numeric_desc)\n",
    "    datetime_cols = df.select_dtypes(include=['datetime'])\n",
    "    if not datetime_cols.empty:\n",
    "        display(\"    📅 Columnas fechas\")\n",
    "        datetime_desc = datetime_cols.describe()\n",
    "        display(datetime_desc)\n",
    "\n",
    "# Función para mostrar los valores nulos o NaN de cada columna en un DataFrame\n",
    "def ShowNanValues(df: pandas.DataFrame):\n",
    "    display(f\"ℹ️ Contador de valores Nulos\".upper())\n",
    "    nulls_count = df.isnull().sum()\n",
    "    nulls_df = nulls_count.reset_index()\n",
    "    nulls_df.columns = ['Columna', 'Cantidad_Nulos']\n",
    "    display(nulls_df)\n",
    "    display()\n",
    "\n",
    "\n",
    "# Función para descargar un archivo\n",
    "def DownloadFile(uri: str, filename: str):\n",
    "    display(f\"🟦 Descargando \\\"{uri}\\\"\")\n",
    "    try:\n",
    "        os.makedirs(os.path.dirname(filename), exist_ok=True)\n",
    "        respuesta = requests.get(uri)\n",
    "        respuesta.raise_for_status() \n",
    "        with open(filename, 'wb') as archivo:\n",
    "            archivo.write(respuesta.content)\n",
    "        display(f\"archivo \\\"{filename}\\\" fue descargado exitosamente.\")\n",
    "    except requests.exceptions.RequestException as e:\n",
    "        display(f\"Error downloading file: {e}\")\n",
    "\n",
    "# Función para descomprimir un archivo zip\n",
    "def UnzipFile(filename: str, outputDir: str):\n",
    "    display(f'🟦 Descomprimiendo \"{filename}\" en \"{outputDir}\"')\n",
    "    try:\n",
    "        with zipfile.ZipFile(filename, 'r') as zip_ref:\n",
    "            zip_ref.extractall(outputDir)\n",
    "        display(f\"Descomprimido en: {os.path.abspath(outputDir)}\")\n",
    "    except Exception as e:\n",
    "        display(f\"Error: {e}\")\n",
    "\n",
    "# Función para mostrar un texto con colores dependiendo del valor de la condición. Verde si es True, rojo si es False.\n",
    "def PrintAssert(message: str, boolExpression: bool):\n",
    "    VERDE = \"\\033[92m\"\n",
    "    ROJO = \"\\033[91m\"\n",
    "    RESET = \"\\033[0m\"\n",
    "    if boolExpression:\n",
    "        print(f\"{VERDE}✅ {message}{RESET}\")\n",
    "    else:\n",
    "        print(f\"{ROJO}🚫 {message}{RESET}\")\n",
    "\n",
    "import warnings\n",
    "warnings.filterwarnings(\"ignore\")\n",
    "\n",
    "%matplotlib inline"
   ]
  },
  {
   "cell_type": "markdown",
   "metadata": {
    "id": "2s9Se-yEjlRZ"
   },
   "source": [
    "# FASE 1️⃣ CARGA Y LIMPIEZA DE DATOS"
   ]
  },
  {
   "cell_type": "markdown",
   "metadata": {
    "id": "e9Sg1tV4IF1t"
   },
   "source": [
    "### Descargar y Cargar los datos\n",
    "- Los datos son descargados desde un repositorio público. Cuenta con 10000+ aplicaciones de google playstore y 13 caracteristicas:\n",
    "    - App: Nombre de la aplicación\n",
    "    - Categoría: Categoría dentro de google playstore a la cual pertenece la aplicación.\n",
    "    - Rating: Calificación promedio dada por los usuarios de google playstore\n",
    "    - Reviews: Total de comentarios de la aplicación.\n",
    "    - Size: Tamaño de la aplicación en Kb.\n",
    "    - Installs: Total de instalaciones de la aplicación.\n",
    "    - Type: si es gratuita o de pago.\n",
    "    - Price: Precio de la aplicación en dólares.\n",
    "    - Content Rating: clasificación de la aplicación en base a su contenido.\n",
    "    - Genres: Géneros dentro de google playsotre a los que pertenece la aplicación.\n",
    "    - Last Updated: Fecha de la última actualización de la aplicación.\n",
    "    - Current Ver: Versión actual de la aplicación.\n",
    "    - Android Ver: Versión de android que soporta la aplicación."
   ]
  },
  {
   "cell_type": "code",
   "execution_count": 5,
   "metadata": {
    "colab": {
     "base_uri": "https://localhost:8080/"
    },
    "executionInfo": {
     "elapsed": 651,
     "status": "ok",
     "timestamp": 1736609362285,
     "user": {
      "displayName": "Edwin Rueda",
      "userId": "09723095468412601383"
     },
     "user_tz": 300
    },
    "id": "iCNF4A86IXLX",
    "outputId": "ae84aab2-2f11-4399-bbb5-34adec61bb48"
   },
   "outputs": [
    {
     "data": {
      "text/plain": [
       "'🟦 Descargando \"https://raw.githubusercontent.com/UIDE-Tareas/3-Visualizacion-Avanzada-Datos-Data-Science-Tarea2/refs/heads/main/Datasets/Chicago_crime_data.zip\"'"
      ]
     },
     "metadata": {},
     "output_type": "display_data"
    },
    {
     "data": {
      "text/plain": [
       "'Error downloading file: 404 Client Error: Not Found for url: https://raw.githubusercontent.com/UIDE-Tareas/3-Visualizacion-Avanzada-Datos-Data-Science-Tarea2/refs/heads/main/Datasets/Chicago_crime_data.zip'"
      ]
     },
     "metadata": {},
     "output_type": "display_data"
    },
    {
     "name": "stdout",
     "output_type": "stream",
     "text": [
      "C:\\Users\\Megam\\OneDrive\\Escritorio\\3-Visualizacion-Avanzada-Datos-Data-Science-Tarea2\\Data\\Chicago_crime_data.zip\n",
      "C:\\Users\\Megam\\OneDrive\\Escritorio\\3-Visualizacion-Avanzada-Datos-Data-Science-Tarea2\\Data\\Chicago_crime_data.csv\n"
     ]
    },
    {
     "ename": "SystemExit",
     "evalue": "",
     "output_type": "error",
     "traceback": [
      "An exception has occurred, use %tb to see the full traceback.\n",
      "\u001b[31mSystemExit\u001b[39m\n"
     ]
    }
   ],
   "source": [
    "#DATASET_URI = \"https://raw.githubusercontent.com/UIDE-Tareas/3-Visualizacion-Avanzada-Datos-Data-Science-Tarea1/refs/heads/main/Datasets/googleplaystore_v2.csv\"\n",
    "\n",
    "DATASET_BASE_FILENAME = \"Chicago_crime_data\"\n",
    "DATASET_ZIP_FILE = Path(f\"Data/{DATASET_BASE_FILENAME}.zip\").resolve()\n",
    "DATASET_CSV_FILE = Path(f\"Data/{DATASET_BASE_FILENAME}.csv\").resolve()\n",
    "DATASET_URI = f\"https://raw.githubusercontent.com/UIDE-Tareas/3-Visualizacion-Avanzada-Datos-Data-Science-Tarea2/refs/heads/main/Datasets/{DATASET_BASE_FILENAME}.zip\"\n",
    "\n",
    "DownloadFile(DATASET_URI, DATASET_ZIP_FILE)\n",
    "print(DATASET_ZIP_FILE)\n",
    "print(DATASET_CSV_FILE)\n",
    "sys.exit()\n",
    "\n",
    "\n",
    "\n",
    "\n",
    "\n",
    "\n",
    "\n",
    "\n",
    "DownloadFile(DATASET_URI, DATASET_FILE)\n",
    "\n",
    "dfOriginal = pd.read_csv(DATASET_FILE)\n",
    "data = dfOriginal.copy()\n",
    "\n",
    "ShowTableInfo(data, \"DataFrame Original\")\n",
    "ShowTableHead(data, \"DataFrame Original\", 10)\n",
    "ShowTableShape(data, \"DataFrame Original\")"
   ]
  },
  {
   "cell_type": "markdown",
   "metadata": {
    "id": "9wZQKN4EMAwT"
   },
   "source": [
    "### Limpieza y manejo de datos preliminares"
   ]
  },
  {
   "cell_type": "code",
   "execution_count": null,
   "metadata": {
    "colab": {
     "base_uri": "https://localhost:8080/"
    },
    "executionInfo": {
     "elapsed": 223,
     "status": "ok",
     "timestamp": 1736609644417,
     "user": {
      "displayName": "Edwin Rueda",
      "userId": "09723095468412601383"
     },
     "user_tz": 300
    },
    "id": "IUXVog4iMDqn",
    "outputId": "179f6ea9-3c23-4e2d-ea98-7226ce740c43"
   },
   "outputs": [
    {
     "data": {
      "text/plain": [
       "'ℹ️ DATAFRAME SIN NULOS Y TIPOS CORREGIDOS ℹ️'"
      ]
     },
     "metadata": {},
     "output_type": "display_data"
    },
    {
     "name": "stdout",
     "output_type": "stream",
     "text": [
      "<class 'pandas.core.frame.DataFrame'>\n",
      "Index: 9360 entries, 0 to 10840\n",
      "Data columns (total 13 columns):\n",
      " #   Column         Non-Null Count  Dtype         \n",
      "---  ------         --------------  -----         \n",
      " 0   App            9360 non-null   string        \n",
      " 1   Category       9360 non-null   string        \n",
      " 2   Rating         9360 non-null   Float64       \n",
      " 3   Reviews        9360 non-null   Int64         \n",
      " 4   Size           9360 non-null   Int64         \n",
      " 5   Installs       9360 non-null   Float64       \n",
      " 6   Type           9360 non-null   string        \n",
      " 7   Price          9360 non-null   Float64       \n",
      " 8   ContentRating  9360 non-null   string        \n",
      " 9   Genres         9360 non-null   string        \n",
      " 10  LastUpdated    9360 non-null   datetime64[ns]\n",
      " 11  CurrentVer     9360 non-null   string        \n",
      " 12  AndroidVer     9360 non-null   string        \n",
      "dtypes: Float64(3), Int64(2), datetime64[ns](1), string(7)\n",
      "memory usage: 1.0 MB\n"
     ]
    },
    {
     "data": {
      "text/plain": [
       "'ℹ️ DATAFRAME SIN NULOS Y TIPOS CORREGIDOS: Primeros 10 elementos.'"
      ]
     },
     "metadata": {},
     "output_type": "display_data"
    },
    {
     "data": {
      "text/html": [
       "<div>\n",
       "<style scoped>\n",
       "    .dataframe tbody tr th:only-of-type {\n",
       "        vertical-align: middle;\n",
       "    }\n",
       "\n",
       "    .dataframe tbody tr th {\n",
       "        vertical-align: top;\n",
       "    }\n",
       "\n",
       "    .dataframe thead th {\n",
       "        text-align: right;\n",
       "    }\n",
       "</style>\n",
       "<table border=\"1\" class=\"dataframe\">\n",
       "  <thead>\n",
       "    <tr style=\"text-align: right;\">\n",
       "      <th></th>\n",
       "      <th>App</th>\n",
       "      <th>Category</th>\n",
       "      <th>Rating</th>\n",
       "      <th>Reviews</th>\n",
       "      <th>Size</th>\n",
       "      <th>Installs</th>\n",
       "      <th>Type</th>\n",
       "      <th>Price</th>\n",
       "      <th>ContentRating</th>\n",
       "      <th>Genres</th>\n",
       "      <th>LastUpdated</th>\n",
       "      <th>CurrentVer</th>\n",
       "      <th>AndroidVer</th>\n",
       "    </tr>\n",
       "  </thead>\n",
       "  <tbody>\n",
       "    <tr>\n",
       "      <th>0</th>\n",
       "      <td>Photo Editor &amp; Candy Camera &amp; Grid &amp; ScrapBook</td>\n",
       "      <td>ART_AND_DESIGN</td>\n",
       "      <td>4.1</td>\n",
       "      <td>159</td>\n",
       "      <td>19000</td>\n",
       "      <td>10000.0</td>\n",
       "      <td>Free</td>\n",
       "      <td>0.0</td>\n",
       "      <td>Everyone</td>\n",
       "      <td>Art &amp; Design</td>\n",
       "      <td>2018-01-07</td>\n",
       "      <td>1.0.0</td>\n",
       "      <td>4.0.3</td>\n",
       "    </tr>\n",
       "    <tr>\n",
       "      <th>1</th>\n",
       "      <td>Coloring book moana</td>\n",
       "      <td>ART_AND_DESIGN</td>\n",
       "      <td>3.9</td>\n",
       "      <td>967</td>\n",
       "      <td>14000</td>\n",
       "      <td>500000.0</td>\n",
       "      <td>Free</td>\n",
       "      <td>0.0</td>\n",
       "      <td>Everyone</td>\n",
       "      <td>Art &amp; Design;Pretend Play</td>\n",
       "      <td>2018-01-15</td>\n",
       "      <td>2.0.0</td>\n",
       "      <td>4.0.3</td>\n",
       "    </tr>\n",
       "    <tr>\n",
       "      <th>2</th>\n",
       "      <td>U Launcher Lite – FREE Live Cool Themes, Hide ...</td>\n",
       "      <td>ART_AND_DESIGN</td>\n",
       "      <td>4.7</td>\n",
       "      <td>87510</td>\n",
       "      <td>8700</td>\n",
       "      <td>5000000.0</td>\n",
       "      <td>Free</td>\n",
       "      <td>0.0</td>\n",
       "      <td>Everyone</td>\n",
       "      <td>Art &amp; Design</td>\n",
       "      <td>2018-08-01</td>\n",
       "      <td>1.2.4</td>\n",
       "      <td>4.0.3</td>\n",
       "    </tr>\n",
       "    <tr>\n",
       "      <th>3</th>\n",
       "      <td>Sketch - Draw &amp; Paint</td>\n",
       "      <td>ART_AND_DESIGN</td>\n",
       "      <td>4.5</td>\n",
       "      <td>215644</td>\n",
       "      <td>25000</td>\n",
       "      <td>50000000.0</td>\n",
       "      <td>Free</td>\n",
       "      <td>0.0</td>\n",
       "      <td>Teen</td>\n",
       "      <td>Art &amp; Design</td>\n",
       "      <td>2018-06-08</td>\n",
       "      <td>Varies with device</td>\n",
       "      <td>4.2</td>\n",
       "    </tr>\n",
       "    <tr>\n",
       "      <th>4</th>\n",
       "      <td>Pixel Draw - Number Art Coloring Book</td>\n",
       "      <td>ART_AND_DESIGN</td>\n",
       "      <td>4.3</td>\n",
       "      <td>967</td>\n",
       "      <td>2800</td>\n",
       "      <td>100000.0</td>\n",
       "      <td>Free</td>\n",
       "      <td>0.0</td>\n",
       "      <td>Everyone</td>\n",
       "      <td>Art &amp; Design;Creativity</td>\n",
       "      <td>2018-06-20</td>\n",
       "      <td>1.1</td>\n",
       "      <td>4.4</td>\n",
       "    </tr>\n",
       "    <tr>\n",
       "      <th>5</th>\n",
       "      <td>Paper flowers instructions</td>\n",
       "      <td>ART_AND_DESIGN</td>\n",
       "      <td>4.4</td>\n",
       "      <td>167</td>\n",
       "      <td>5600</td>\n",
       "      <td>50000.0</td>\n",
       "      <td>Free</td>\n",
       "      <td>0.0</td>\n",
       "      <td>Everyone</td>\n",
       "      <td>Art &amp; Design</td>\n",
       "      <td>2017-03-26</td>\n",
       "      <td>1.0</td>\n",
       "      <td>2.3</td>\n",
       "    </tr>\n",
       "    <tr>\n",
       "      <th>6</th>\n",
       "      <td>Smoke Effect Photo Maker - Smoke Editor</td>\n",
       "      <td>ART_AND_DESIGN</td>\n",
       "      <td>3.8</td>\n",
       "      <td>178</td>\n",
       "      <td>19000</td>\n",
       "      <td>50000.0</td>\n",
       "      <td>Free</td>\n",
       "      <td>0.0</td>\n",
       "      <td>Everyone</td>\n",
       "      <td>Art &amp; Design</td>\n",
       "      <td>2018-04-26</td>\n",
       "      <td>1.1</td>\n",
       "      <td>4.0.3</td>\n",
       "    </tr>\n",
       "    <tr>\n",
       "      <th>7</th>\n",
       "      <td>Infinite Painter</td>\n",
       "      <td>ART_AND_DESIGN</td>\n",
       "      <td>4.1</td>\n",
       "      <td>36815</td>\n",
       "      <td>29000</td>\n",
       "      <td>1000000.0</td>\n",
       "      <td>Free</td>\n",
       "      <td>0.0</td>\n",
       "      <td>Everyone</td>\n",
       "      <td>Art &amp; Design</td>\n",
       "      <td>2018-06-14</td>\n",
       "      <td>6.1.61.1</td>\n",
       "      <td>4.2</td>\n",
       "    </tr>\n",
       "    <tr>\n",
       "      <th>8</th>\n",
       "      <td>Garden Coloring Book</td>\n",
       "      <td>ART_AND_DESIGN</td>\n",
       "      <td>4.4</td>\n",
       "      <td>13791</td>\n",
       "      <td>33000</td>\n",
       "      <td>1000000.0</td>\n",
       "      <td>Free</td>\n",
       "      <td>0.0</td>\n",
       "      <td>Everyone</td>\n",
       "      <td>Art &amp; Design</td>\n",
       "      <td>2017-09-20</td>\n",
       "      <td>2.9.2</td>\n",
       "      <td>3.0</td>\n",
       "    </tr>\n",
       "    <tr>\n",
       "      <th>9</th>\n",
       "      <td>Kids Paint Free - Drawing Fun</td>\n",
       "      <td>ART_AND_DESIGN</td>\n",
       "      <td>4.7</td>\n",
       "      <td>121</td>\n",
       "      <td>3100</td>\n",
       "      <td>10000.0</td>\n",
       "      <td>Free</td>\n",
       "      <td>0.0</td>\n",
       "      <td>Everyone</td>\n",
       "      <td>Art &amp; Design;Creativity</td>\n",
       "      <td>2018-07-03</td>\n",
       "      <td>2.8</td>\n",
       "      <td>4.0.3</td>\n",
       "    </tr>\n",
       "  </tbody>\n",
       "</table>\n",
       "</div>"
      ],
      "text/plain": [
       "                                                 App        Category  Rating  \\\n",
       "0     Photo Editor & Candy Camera & Grid & ScrapBook  ART_AND_DESIGN     4.1   \n",
       "1                                Coloring book moana  ART_AND_DESIGN     3.9   \n",
       "2  U Launcher Lite – FREE Live Cool Themes, Hide ...  ART_AND_DESIGN     4.7   \n",
       "3                              Sketch - Draw & Paint  ART_AND_DESIGN     4.5   \n",
       "4              Pixel Draw - Number Art Coloring Book  ART_AND_DESIGN     4.3   \n",
       "5                         Paper flowers instructions  ART_AND_DESIGN     4.4   \n",
       "6            Smoke Effect Photo Maker - Smoke Editor  ART_AND_DESIGN     3.8   \n",
       "7                                   Infinite Painter  ART_AND_DESIGN     4.1   \n",
       "8                               Garden Coloring Book  ART_AND_DESIGN     4.4   \n",
       "9                      Kids Paint Free - Drawing Fun  ART_AND_DESIGN     4.7   \n",
       "\n",
       "   Reviews   Size    Installs  Type  Price ContentRating  \\\n",
       "0      159  19000     10000.0  Free    0.0      Everyone   \n",
       "1      967  14000    500000.0  Free    0.0      Everyone   \n",
       "2    87510   8700   5000000.0  Free    0.0      Everyone   \n",
       "3   215644  25000  50000000.0  Free    0.0          Teen   \n",
       "4      967   2800    100000.0  Free    0.0      Everyone   \n",
       "5      167   5600     50000.0  Free    0.0      Everyone   \n",
       "6      178  19000     50000.0  Free    0.0      Everyone   \n",
       "7    36815  29000   1000000.0  Free    0.0      Everyone   \n",
       "8    13791  33000   1000000.0  Free    0.0      Everyone   \n",
       "9      121   3100     10000.0  Free    0.0      Everyone   \n",
       "\n",
       "                      Genres LastUpdated          CurrentVer AndroidVer  \n",
       "0               Art & Design  2018-01-07               1.0.0      4.0.3  \n",
       "1  Art & Design;Pretend Play  2018-01-15               2.0.0      4.0.3  \n",
       "2               Art & Design  2018-08-01               1.2.4      4.0.3  \n",
       "3               Art & Design  2018-06-08  Varies with device        4.2  \n",
       "4    Art & Design;Creativity  2018-06-20                 1.1        4.4  \n",
       "5               Art & Design  2017-03-26                 1.0        2.3  \n",
       "6               Art & Design  2018-04-26                 1.1      4.0.3  \n",
       "7               Art & Design  2018-06-14            6.1.61.1        4.2  \n",
       "8               Art & Design  2017-09-20               2.9.2        3.0  \n",
       "9    Art & Design;Creativity  2018-07-03                 2.8      4.0.3  "
      ]
     },
     "metadata": {},
     "output_type": "display_data"
    }
   ],
   "source": [
    "data = dfOriginal.copy()\n",
    "# eliminar registros de las filas con celda NaN\n",
    "data = data.dropna()\n",
    "\n",
    "# Cambiar nombres de columnas para evitar espacios\n",
    "data.columns = [col.strip().replace(\" \", \"\") for col in data.columns] # \"Last Updated\", \"Current Ver\", \"Android Ver\"\n",
    "\n",
    "# Corregir los tipos de datos incorrectos para las columnas\n",
    "data.App = data.App.astype(pandas.StringDtype()).str.strip()\n",
    "data.Category = data.Category.astype(pandas.StringDtype()).str.strip()\n",
    "data.Rating = data.Rating.astype(pandas.Float64Dtype())\n",
    "data.Reviews = data.Reviews.astype(pandas.Int64Dtype())\n",
    "data.Size = data.Size.round().astype(pandas.Int64Dtype())\n",
    "data.Installs = data.Installs.apply(lambda x: x.strip().replace(\"+\",\"\").replace(\",\",\"\")).astype(pandas.Float64Dtype())\n",
    "data.Type = data.Type.apply(lambda x: x.strip()).astype(pandas.StringDtype())\n",
    "data.Price = data.Price.apply(lambda x: x.strip().replace(\"$\",\"\")).astype(pandas.Float64Dtype())\n",
    "data.ContentRating = data.ContentRating.astype(pandas.StringDtype()).str.strip()\n",
    "data.Genres = data.Genres.astype(pandas.StringDtype()).str.strip()\n",
    "data.LastUpdated = pandas.to_datetime(data.LastUpdated.astype(pandas.StringDtype()), format=f\"%B %d, %Y\", errors=\"raise\") \n",
    "data.CurrentVer = data.CurrentVer.astype(pandas.StringDtype()).str.strip()\n",
    "data.AndroidVer = data.AndroidVer.astype(pandas.StringDtype()).str.replace(\"and up\",\"\").str.strip()\n",
    "\n",
    "ShowTableInfo(data, \"DataFrame sin nulos y tipos corregidos\")\n",
    "ShowTableHead(data, \"DataFrame sin nulos y tipos corregidos\")\n"
   ]
  },
  {
   "cell_type": "markdown",
   "metadata": {
    "id": "3vBjiUM0Xq7Q"
   },
   "source": [
    "### Controles de verificación de los datos\n",
    "\n",
    "Sirve para asegurarnos de que nuestros datos cumplan reglas lógicas presentes en nuestros negocios o proyectos.\n",
    "\n",
    "En el caso de este proyecto se tiene que:\n",
    "\n",
    "\n",
    "1.   La valoración está entre 1 y 5 para todas las aplicaciones.\n",
    "2.   El número de opiniones es menor o igual que el número de instalaciones.\n",
    "3.   Las aplicaciones gratuitas no deben tener un precio superior a 0."
   ]
  },
  {
   "cell_type": "code",
   "execution_count": null,
   "metadata": {
    "colab": {
     "base_uri": "https://localhost:8080/"
    },
    "executionInfo": {
     "elapsed": 245,
     "status": "ok",
     "timestamp": 1736610114165,
     "user": {
      "displayName": "Edwin Rueda",
      "userId": "09723095468412601383"
     },
     "user_tz": 300
    },
    "id": "D2mR2Ps_-NjC",
    "outputId": "5d7198f0-e3e3-46a8-8b96-13fcc8fea283"
   },
   "outputs": [
    {
     "data": {
      "text/plain": [
       "'ℹ️ VERIFICANDO DATOS'"
      ]
     },
     "metadata": {},
     "output_type": "display_data"
    },
    {
     "name": "stdout",
     "output_type": "stream",
     "text": [
      "\u001b[92m✅ Calificaciones están entre 0 y 5\u001b[0m\n",
      "\u001b[92m✅ Tamaño de archivo solo valores positivos\u001b[0m\n",
      "\u001b[91m🚫 Las Reviews deben ser menor al número de instalaciones\u001b[0m\n",
      "\u001b[92m✅ ===> 🔨 Las Reviews deben ser menor al número de instalaciones. FIXED.\u001b[0m\n",
      "\u001b[92m✅ Las aplicaciones gratuitas deben tener precio 0\u001b[0m\n"
     ]
    },
    {
     "data": {
      "text/plain": [
       "'ℹ️ DATA VERIFICADO - Tamaño de los datos'"
      ]
     },
     "metadata": {},
     "output_type": "display_data"
    },
    {
     "data": {
      "text/plain": [
       "(9353, 13)"
      ]
     },
     "metadata": {},
     "output_type": "display_data"
    }
   ],
   "source": [
    "ShowInfoMessage(\"Verificando datos\")\n",
    "result = data.Rating.between(0,5).all()\n",
    "PrintAssert(\"Calificaciones están entre 0 y 5\", result)\n",
    "if not result:\n",
    "    data = data[data.Rating.between(0,5)]\n",
    "    result = data.Rating.between(0,5).all()\n",
    "    PrintAssert(\"Corregido Calificaciones están entre 0 y 5\", data.Rating.max()<=5 and data.Rating.min()>=0, result)\n",
    "\n",
    "result = data.Size.min()>=0\n",
    "PrintAssert(\"Tamaño de archivo solo valores positivos\", result)\n",
    "if not result:\n",
    "    data = data[data.Size>=0]\n",
    "    result = data.Size.min()>=0\n",
    "    PrintAssert(\"Corregido Tamaño de archivo solo valores positivos\", result)\n",
    "\n",
    "result = (data.Reviews <= data.Installs).all()\n",
    "PrintAssert(\"Las Reviews deben ser menor al número de instalaciones\", result)\n",
    "if not result:\n",
    "    data = data[data.Reviews <= data.Installs]\n",
    "    result = (data.Reviews <= data.Installs).all()\n",
    "    PrintAssert(\"===> 🔨 Las Reviews deben ser menor al número de instalaciones. FIXED.\", result)\n",
    "\n",
    "result = (data[data.Type == \"Free\"].Price == 0).all()\n",
    "PrintAssert(\"Las aplicaciones gratuitas deben tener precio 0\", result)\n",
    "if not result:\n",
    "    data.loc[data.Type == \"Free\", \"Price\"] = 0\n",
    "    result = (data[data.Type == \"Free\"].Price == 0).all()\n",
    "    PrintAssert(\"Corregido Las aplicaciones gratuitas deben tener precio 0\", result)\n",
    "\n",
    "ShowTableShape(data, \"Data verificado\")"
   ]
  }
 ],
 "metadata": {
  "colab": {
   "provenance": []
  },
  "kernelspec": {
   "display_name": "Python 3",
   "language": "python",
   "name": "python3"
  },
  "language_info": {
   "codemirror_mode": {
    "name": "ipython",
    "version": 3
   },
   "file_extension": ".py",
   "mimetype": "text/x-python",
   "name": "python",
   "nbconvert_exporter": "python",
   "pygments_lexer": "ipython3",
   "version": "3.13.5"
  }
 },
 "nbformat": 4,
 "nbformat_minor": 1
}
